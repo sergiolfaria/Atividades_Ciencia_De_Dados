{
 "cells": [
  {
   "cell_type": "code",
   "execution_count": 133,
   "metadata": {},
   "outputs": [],
   "source": [
    "import pandas as pd\n",
    "from statsmodels.tsa.arima.model import ARIMA\n",
    "# Define os nomes das colunas e as larguras de cada campo\n",
    "colspecs = [(2, 10), (10, 22), (56, 69), (82, 95)]\n",
    "names = ['Data', 'Codigo', 'Preco_Abertura', 'Preco_Fechamento']\n",
    "\n",
    "# Carrega o arquivo\n",
    "df_2022 = pd.read_fwf('COTAHIST_A2022.TXT', colspecs=colspecs, names=names, header=None)\n",
    "df_2023 = pd.read_fwf('COTAHIST_A2023.TXT', colspecs=colspecs, names=names, header=None)\n",
    "df_2024 = pd.read_fwf('COTAHIST_A2024.TXT', colspecs=colspecs, names=names, header=None)\n",
    "\n"
   ]
  },
  {
   "cell_type": "code",
   "execution_count": 134,
   "metadata": {},
   "outputs": [
    {
     "data": {
      "text/html": [
       "<div>\n",
       "<style scoped>\n",
       "    .dataframe tbody tr th:only-of-type {\n",
       "        vertical-align: middle;\n",
       "    }\n",
       "\n",
       "    .dataframe tbody tr th {\n",
       "        vertical-align: top;\n",
       "    }\n",
       "\n",
       "    .dataframe thead th {\n",
       "        text-align: right;\n",
       "    }\n",
       "</style>\n",
       "<table border=\"1\" class=\"dataframe\">\n",
       "  <thead>\n",
       "    <tr style=\"text-align: right;\">\n",
       "      <th></th>\n",
       "      <th>Data</th>\n",
       "      <th>Codigo</th>\n",
       "      <th>Preco_Abertura</th>\n",
       "      <th>Preco_Fechamento</th>\n",
       "    </tr>\n",
       "  </thead>\n",
       "  <tbody>\n",
       "    <tr>\n",
       "      <th>0</th>\n",
       "      <td>COTAHIST</td>\n",
       "      <td>.2022BOVESPA</td>\n",
       "      <td>NaN</td>\n",
       "      <td>NaN</td>\n",
       "    </tr>\n",
       "    <tr>\n",
       "      <th>1</th>\n",
       "      <td>20220103</td>\n",
       "      <td>02GNDI3</td>\n",
       "      <td>5970.0</td>\n",
       "      <td>5727.0</td>\n",
       "    </tr>\n",
       "    <tr>\n",
       "      <th>2</th>\n",
       "      <td>20220103</td>\n",
       "      <td>02ABEV3</td>\n",
       "      <td>1542.0</td>\n",
       "      <td>1515.0</td>\n",
       "    </tr>\n",
       "    <tr>\n",
       "      <th>3</th>\n",
       "      <td>20220103</td>\n",
       "      <td>02MODL11</td>\n",
       "      <td>1080.0</td>\n",
       "      <td>1071.0</td>\n",
       "    </tr>\n",
       "    <tr>\n",
       "      <th>4</th>\n",
       "      <td>20220103</td>\n",
       "      <td>02TASA4</td>\n",
       "      <td>2500.0</td>\n",
       "      <td>2428.0</td>\n",
       "    </tr>\n",
       "    <tr>\n",
       "      <th>...</th>\n",
       "      <td>...</td>\n",
       "      <td>...</td>\n",
       "      <td>...</td>\n",
       "      <td>...</td>\n",
       "    </tr>\n",
       "    <tr>\n",
       "      <th>95</th>\n",
       "      <td>20220218</td>\n",
       "      <td>12VSLH11</td>\n",
       "      <td>949.0</td>\n",
       "      <td>948.0</td>\n",
       "    </tr>\n",
       "    <tr>\n",
       "      <th>96</th>\n",
       "      <td>20220218</td>\n",
       "      <td>12GCRI11</td>\n",
       "      <td>9795.0</td>\n",
       "      <td>9770.0</td>\n",
       "    </tr>\n",
       "    <tr>\n",
       "      <th>97</th>\n",
       "      <td>20220218</td>\n",
       "      <td>12PRSN11B</td>\n",
       "      <td>158.0</td>\n",
       "      <td>143.0</td>\n",
       "    </tr>\n",
       "    <tr>\n",
       "      <th>98</th>\n",
       "      <td>20220218</td>\n",
       "      <td>12ONEF11</td>\n",
       "      <td>14997.0</td>\n",
       "      <td>14997.0</td>\n",
       "    </tr>\n",
       "    <tr>\n",
       "      <th>99</th>\n",
       "      <td>20220218</td>\n",
       "      <td>12VGHF11</td>\n",
       "      <td>1014.0</td>\n",
       "      <td>1013.0</td>\n",
       "    </tr>\n",
       "  </tbody>\n",
       "</table>\n",
       "<p>100 rows × 4 columns</p>\n",
       "</div>"
      ],
      "text/plain": [
       "        Data        Codigo  Preco_Abertura  Preco_Fechamento\n",
       "0   COTAHIST  .2022BOVESPA             NaN               NaN\n",
       "1   20220103       02GNDI3          5970.0            5727.0\n",
       "2   20220103       02ABEV3          1542.0            1515.0\n",
       "3   20220103      02MODL11          1080.0            1071.0\n",
       "4   20220103       02TASA4          2500.0            2428.0\n",
       "..       ...           ...             ...               ...\n",
       "95  20220218      12VSLH11           949.0             948.0\n",
       "96  20220218      12GCRI11          9795.0            9770.0\n",
       "97  20220218     12PRSN11B           158.0             143.0\n",
       "98  20220218      12ONEF11         14997.0           14997.0\n",
       "99  20220218      12VGHF11          1014.0            1013.0\n",
       "\n",
       "[100 rows x 4 columns]"
      ]
     },
     "execution_count": 134,
     "metadata": {},
     "output_type": "execute_result"
    }
   ],
   "source": [
    "\n",
    "df_2022.head(100)"
   ]
  },
  {
   "cell_type": "code",
   "execution_count": 135,
   "metadata": {},
   "outputs": [
    {
     "data": {
      "text/html": [
       "<div>\n",
       "<style scoped>\n",
       "    .dataframe tbody tr th:only-of-type {\n",
       "        vertical-align: middle;\n",
       "    }\n",
       "\n",
       "    .dataframe tbody tr th {\n",
       "        vertical-align: top;\n",
       "    }\n",
       "\n",
       "    .dataframe thead th {\n",
       "        text-align: right;\n",
       "    }\n",
       "</style>\n",
       "<table border=\"1\" class=\"dataframe\">\n",
       "  <thead>\n",
       "    <tr style=\"text-align: right;\">\n",
       "      <th></th>\n",
       "      <th>Data</th>\n",
       "      <th>Codigo</th>\n",
       "      <th>Preco_Abertura</th>\n",
       "      <th>Preco_Fechamento</th>\n",
       "    </tr>\n",
       "  </thead>\n",
       "  <tbody>\n",
       "    <tr>\n",
       "      <th>0</th>\n",
       "      <td>COTAHIST</td>\n",
       "      <td>.2023BOVESPA</td>\n",
       "      <td>NaN</td>\n",
       "      <td>NaN</td>\n",
       "    </tr>\n",
       "    <tr>\n",
       "      <th>1</th>\n",
       "      <td>20230102</td>\n",
       "      <td>02NEOE3</td>\n",
       "      <td>1540.0</td>\n",
       "      <td>1498.0</td>\n",
       "    </tr>\n",
       "    <tr>\n",
       "      <th>2</th>\n",
       "      <td>20230102</td>\n",
       "      <td>02NEXP3</td>\n",
       "      <td>31.0</td>\n",
       "      <td>29.0</td>\n",
       "    </tr>\n",
       "    <tr>\n",
       "      <th>3</th>\n",
       "      <td>20230102</td>\n",
       "      <td>02NGRD3</td>\n",
       "      <td>148.0</td>\n",
       "      <td>143.0</td>\n",
       "    </tr>\n",
       "    <tr>\n",
       "      <th>4</th>\n",
       "      <td>20230102</td>\n",
       "      <td>02NINJ3</td>\n",
       "      <td>270.0</td>\n",
       "      <td>269.0</td>\n",
       "    </tr>\n",
       "  </tbody>\n",
       "</table>\n",
       "</div>"
      ],
      "text/plain": [
       "       Data        Codigo  Preco_Abertura  Preco_Fechamento\n",
       "0  COTAHIST  .2023BOVESPA             NaN               NaN\n",
       "1  20230102       02NEOE3          1540.0            1498.0\n",
       "2  20230102       02NEXP3            31.0              29.0\n",
       "3  20230102       02NGRD3           148.0             143.0\n",
       "4  20230102       02NINJ3           270.0             269.0"
      ]
     },
     "execution_count": 135,
     "metadata": {},
     "output_type": "execute_result"
    }
   ],
   "source": [
    "df_2023.head()"
   ]
  },
  {
   "cell_type": "code",
   "execution_count": 136,
   "metadata": {},
   "outputs": [
    {
     "data": {
      "text/html": [
       "<div>\n",
       "<style scoped>\n",
       "    .dataframe tbody tr th:only-of-type {\n",
       "        vertical-align: middle;\n",
       "    }\n",
       "\n",
       "    .dataframe tbody tr th {\n",
       "        vertical-align: top;\n",
       "    }\n",
       "\n",
       "    .dataframe thead th {\n",
       "        text-align: right;\n",
       "    }\n",
       "</style>\n",
       "<table border=\"1\" class=\"dataframe\">\n",
       "  <thead>\n",
       "    <tr style=\"text-align: right;\">\n",
       "      <th></th>\n",
       "      <th>Data</th>\n",
       "      <th>Codigo</th>\n",
       "      <th>Preco_Abertura</th>\n",
       "      <th>Preco_Fechamento</th>\n",
       "    </tr>\n",
       "  </thead>\n",
       "  <tbody>\n",
       "    <tr>\n",
       "      <th>0</th>\n",
       "      <td>COTAHIST</td>\n",
       "      <td>.2024BOVESPA</td>\n",
       "      <td>NaN</td>\n",
       "      <td>NaN</td>\n",
       "    </tr>\n",
       "    <tr>\n",
       "      <th>1</th>\n",
       "      <td>20240102</td>\n",
       "      <td>02AALR3</td>\n",
       "      <td>1020.0</td>\n",
       "      <td>850.0</td>\n",
       "    </tr>\n",
       "    <tr>\n",
       "      <th>2</th>\n",
       "      <td>20240102</td>\n",
       "      <td>02ABCB4</td>\n",
       "      <td>2398.0</td>\n",
       "      <td>2279.0</td>\n",
       "    </tr>\n",
       "    <tr>\n",
       "      <th>3</th>\n",
       "      <td>20240102</td>\n",
       "      <td>02ABEV3</td>\n",
       "      <td>1372.0</td>\n",
       "      <td>1359.0</td>\n",
       "    </tr>\n",
       "    <tr>\n",
       "      <th>4</th>\n",
       "      <td>20240102</td>\n",
       "      <td>02BBDC3</td>\n",
       "      <td>1526.0</td>\n",
       "      <td>1498.0</td>\n",
       "    </tr>\n",
       "    <tr>\n",
       "      <th>5</th>\n",
       "      <td>20240102</td>\n",
       "      <td>02ALPA3</td>\n",
       "      <td>1011.0</td>\n",
       "      <td>999.0</td>\n",
       "    </tr>\n",
       "    <tr>\n",
       "      <th>6</th>\n",
       "      <td>20240102</td>\n",
       "      <td>02ALPA4</td>\n",
       "      <td>1010.0</td>\n",
       "      <td>931.0</td>\n",
       "    </tr>\n",
       "    <tr>\n",
       "      <th>7</th>\n",
       "      <td>20240102</td>\n",
       "      <td>02ALPK3</td>\n",
       "      <td>492.0</td>\n",
       "      <td>447.0</td>\n",
       "    </tr>\n",
       "    <tr>\n",
       "      <th>8</th>\n",
       "      <td>20240102</td>\n",
       "      <td>02ALUP11</td>\n",
       "      <td>3146.0</td>\n",
       "      <td>3025.0</td>\n",
       "    </tr>\n",
       "    <tr>\n",
       "      <th>9</th>\n",
       "      <td>20240102</td>\n",
       "      <td>02ALUP3</td>\n",
       "      <td>1046.0</td>\n",
       "      <td>1007.0</td>\n",
       "    </tr>\n",
       "  </tbody>\n",
       "</table>\n",
       "</div>"
      ],
      "text/plain": [
       "       Data        Codigo  Preco_Abertura  Preco_Fechamento\n",
       "0  COTAHIST  .2024BOVESPA             NaN               NaN\n",
       "1  20240102       02AALR3          1020.0             850.0\n",
       "2  20240102       02ABCB4          2398.0            2279.0\n",
       "3  20240102       02ABEV3          1372.0            1359.0\n",
       "4  20240102       02BBDC3          1526.0            1498.0\n",
       "5  20240102       02ALPA3          1011.0             999.0\n",
       "6  20240102       02ALPA4          1010.0             931.0\n",
       "7  20240102       02ALPK3           492.0             447.0\n",
       "8  20240102      02ALUP11          3146.0            3025.0\n",
       "9  20240102       02ALUP3          1046.0            1007.0"
      ]
     },
     "execution_count": 136,
     "metadata": {},
     "output_type": "execute_result"
    }
   ],
   "source": [
    "df_2024.head(10)"
   ]
  },
  {
   "cell_type": "code",
   "execution_count": 137,
   "metadata": {},
   "outputs": [
    {
     "data": {
      "text/html": [
       "<div>\n",
       "<style scoped>\n",
       "    .dataframe tbody tr th:only-of-type {\n",
       "        vertical-align: middle;\n",
       "    }\n",
       "\n",
       "    .dataframe tbody tr th {\n",
       "        vertical-align: top;\n",
       "    }\n",
       "\n",
       "    .dataframe thead th {\n",
       "        text-align: right;\n",
       "    }\n",
       "</style>\n",
       "<table border=\"1\" class=\"dataframe\">\n",
       "  <thead>\n",
       "    <tr style=\"text-align: right;\">\n",
       "      <th></th>\n",
       "      <th>Data</th>\n",
       "      <th>Codigo</th>\n",
       "      <th>Preco_Abertura</th>\n",
       "      <th>Preco_Fechamento</th>\n",
       "    </tr>\n",
       "  </thead>\n",
       "  <tbody>\n",
       "    <tr>\n",
       "      <th>0</th>\n",
       "      <td>COTAHIST</td>\n",
       "      <td>.2022BOVESPA</td>\n",
       "      <td>NaN</td>\n",
       "      <td>NaN</td>\n",
       "    </tr>\n",
       "    <tr>\n",
       "      <th>1</th>\n",
       "      <td>20220103</td>\n",
       "      <td>02GNDI3</td>\n",
       "      <td>5970.0</td>\n",
       "      <td>5727.0</td>\n",
       "    </tr>\n",
       "    <tr>\n",
       "      <th>2</th>\n",
       "      <td>20220103</td>\n",
       "      <td>02ABEV3</td>\n",
       "      <td>1542.0</td>\n",
       "      <td>1515.0</td>\n",
       "    </tr>\n",
       "    <tr>\n",
       "      <th>3</th>\n",
       "      <td>20220103</td>\n",
       "      <td>02MODL11</td>\n",
       "      <td>1080.0</td>\n",
       "      <td>1071.0</td>\n",
       "    </tr>\n",
       "    <tr>\n",
       "      <th>4</th>\n",
       "      <td>20220103</td>\n",
       "      <td>02TASA4</td>\n",
       "      <td>2500.0</td>\n",
       "      <td>2428.0</td>\n",
       "    </tr>\n",
       "  </tbody>\n",
       "</table>\n",
       "</div>"
      ],
      "text/plain": [
       "       Data        Codigo  Preco_Abertura  Preco_Fechamento\n",
       "0  COTAHIST  .2022BOVESPA             NaN               NaN\n",
       "1  20220103       02GNDI3          5970.0            5727.0\n",
       "2  20220103       02ABEV3          1542.0            1515.0\n",
       "3  20220103      02MODL11          1080.0            1071.0\n",
       "4  20220103       02TASA4          2500.0            2428.0"
      ]
     },
     "execution_count": 137,
     "metadata": {},
     "output_type": "execute_result"
    }
   ],
   "source": [
    "frames = [df_2022, df_2023]\n",
    "df_2022e2023 = pd.concat(frames)\n",
    "df_2022e2023.head()"
   ]
  },
  {
   "cell_type": "code",
   "execution_count": 138,
   "metadata": {},
   "outputs": [
    {
     "name": "stdout",
     "output_type": "stream",
     "text": [
      "             Data    Codigo  Preco_Abertura  Preco_Fechamento\n",
      "152      20220103  02AMZO34         11955.0           11930.0\n",
      "2541     20220119  02AMZO34         11200.0           10860.0\n",
      "2565     20220221  02AMZO34          9960.0            9786.0\n",
      "5904     20220204  02AMZO34         10557.0           10233.0\n",
      "6807     20220104  02AMZO34         12302.0           12000.0\n",
      "...           ...       ...             ...               ...\n",
      "1345496  20231221  34AMZO34          3754.0            3702.0\n",
      "1347177  20231222  34AMZO34          3740.0            3715.0\n",
      "1349027  20231226  34AMZO34          3741.0            3689.0\n",
      "1350523  20231227  34AMZO34          3708.0            3692.0\n",
      "1352256  20231228  34AMZO34          3715.0            3698.0\n",
      "\n",
      "[498 rows x 4 columns]\n"
     ]
    }
   ],
   "source": [
    "AMAZON_df = df_2022e2023[df_2022e2023['Codigo'].str.endswith('AMZO34')]\n",
    "\n",
    "print(AMAZON_df)"
   ]
  },
  {
   "cell_type": "code",
   "execution_count": 139,
   "metadata": {},
   "outputs": [
    {
     "name": "stderr",
     "output_type": "stream",
     "text": [
      "C:\\Users\\srgio\\AppData\\Local\\Temp\\ipykernel_1368\\4240046411.py:1: SettingWithCopyWarning: \n",
      "A value is trying to be set on a copy of a slice from a DataFrame.\n",
      "Try using .loc[row_indexer,col_indexer] = value instead\n",
      "\n",
      "See the caveats in the documentation: https://pandas.pydata.org/pandas-docs/stable/user_guide/indexing.html#returning-a-view-versus-a-copy\n",
      "  AMAZON_df['Data'] = pd.to_datetime(AMAZON_df['Data'], format='%Y%m%d')\n",
      "C:\\Users\\srgio\\AppData\\Local\\Temp\\ipykernel_1368\\4240046411.py:4: SettingWithCopyWarning: \n",
      "A value is trying to be set on a copy of a slice from a DataFrame.\n",
      "Try using .loc[row_indexer,col_indexer] = value instead\n",
      "\n",
      "See the caveats in the documentation: https://pandas.pydata.org/pandas-docs/stable/user_guide/indexing.html#returning-a-view-versus-a-copy\n",
      "  AMAZON_df['Ano'] = AMAZON_df['Data'].dt.year\n",
      "C:\\Users\\srgio\\AppData\\Local\\Temp\\ipykernel_1368\\4240046411.py:5: SettingWithCopyWarning: \n",
      "A value is trying to be set on a copy of a slice from a DataFrame.\n",
      "Try using .loc[row_indexer,col_indexer] = value instead\n",
      "\n",
      "See the caveats in the documentation: https://pandas.pydata.org/pandas-docs/stable/user_guide/indexing.html#returning-a-view-versus-a-copy\n",
      "  AMAZON_df['Mes'] = AMAZON_df['Data'].dt.month\n",
      "C:\\Users\\srgio\\AppData\\Local\\Temp\\ipykernel_1368\\4240046411.py:6: SettingWithCopyWarning: \n",
      "A value is trying to be set on a copy of a slice from a DataFrame.\n",
      "Try using .loc[row_indexer,col_indexer] = value instead\n",
      "\n",
      "See the caveats in the documentation: https://pandas.pydata.org/pandas-docs/stable/user_guide/indexing.html#returning-a-view-versus-a-copy\n",
      "  AMAZON_df['Dia'] = AMAZON_df['Data'].dt.day\n"
     ]
    }
   ],
   "source": [
    "AMAZON_df['Data'] = pd.to_datetime(AMAZON_df['Data'], format='%Y%m%d')\n",
    "\n",
    "# Extraindo ano, mês e dia\n",
    "AMAZON_df['Ano'] = AMAZON_df['Data'].dt.year\n",
    "AMAZON_df['Mes'] = AMAZON_df['Data'].dt.month\n",
    "AMAZON_df['Dia'] = AMAZON_df['Data'].dt.day"
   ]
  },
  {
   "cell_type": "code",
   "execution_count": 140,
   "metadata": {},
   "outputs": [
    {
     "name": "stdout",
     "output_type": "stream",
     "text": [
      "              Data    Codigo  Preco_Abertura  Preco_Fechamento   Ano  Mes  Dia\n",
      "152     2022-01-03  02AMZO34         11955.0           11930.0  2022    1    3\n",
      "2541    2022-01-19  02AMZO34         11200.0           10860.0  2022    1   19\n",
      "2565    2022-02-21  02AMZO34          9960.0            9786.0  2022    2   21\n",
      "5904    2022-02-04  02AMZO34         10557.0           10233.0  2022    2    4\n",
      "6807    2022-01-04  02AMZO34         12302.0           12000.0  2022    1    4\n",
      "...            ...       ...             ...               ...   ...  ...  ...\n",
      "1345496 2023-12-21  34AMZO34          3754.0            3702.0  2023   12   21\n",
      "1347177 2023-12-22  34AMZO34          3740.0            3715.0  2023   12   22\n",
      "1349027 2023-12-26  34AMZO34          3741.0            3689.0  2023   12   26\n",
      "1350523 2023-12-27  34AMZO34          3708.0            3692.0  2023   12   27\n",
      "1352256 2023-12-28  34AMZO34          3715.0            3698.0  2023   12   28\n",
      "\n",
      "[498 rows x 7 columns]\n"
     ]
    }
   ],
   "source": [
    "print(AMAZON_df)"
   ]
  },
  {
   "cell_type": "code",
   "execution_count": 141,
   "metadata": {},
   "outputs": [
    {
     "data": {
      "text/plain": [
       "Data                0\n",
       "Codigo              0\n",
       "Preco_Abertura      0\n",
       "Preco_Fechamento    0\n",
       "Ano                 0\n",
       "Mes                 0\n",
       "Dia                 0\n",
       "dtype: int64"
      ]
     },
     "execution_count": 141,
     "metadata": {},
     "output_type": "execute_result"
    }
   ],
   "source": [
    "AMAZON_df.isnull().sum()"
   ]
  },
  {
   "cell_type": "code",
   "execution_count": 142,
   "metadata": {},
   "outputs": [
    {
     "name": "stdout",
     "output_type": "stream",
     "text": [
      "            Data    Codigo  Preco_Abertura  Preco_Fechamento\n",
      "923     20240102  34AMZO34          3675.0            3640.0\n",
      "2888    20240103  34AMZO34          3694.0            3653.0\n",
      "4563    20240104  34AMZO34          3620.0            3544.0\n",
      "5999    20240105  34AMZO34          3555.0            3521.0\n",
      "8078    20240108  34AMZO34          3555.0            3555.0\n",
      "...          ...       ...             ...               ...\n",
      "96409   20240322  34AMZO34          4453.0            4409.0\n",
      "98163   20240325  34AMZO34          4450.0            4422.0\n",
      "99763   20240326  34AMZO34          4497.0            4430.0\n",
      "101401  20240327  34AMZO34          4468.0            4427.0\n",
      "103041  20240328  34AMZO34          4498.0            4476.0\n",
      "\n",
      "[61 rows x 4 columns]\n"
     ]
    }
   ],
   "source": [
    "AMAZON2024_df = df_2024[df_2024['Codigo'].str.endswith('AMZO34')]\n",
    "\n",
    "print(AMAZON2024_df)"
   ]
  },
  {
   "cell_type": "code",
   "execution_count": 143,
   "metadata": {},
   "outputs": [
    {
     "name": "stdout",
     "output_type": "stream",
     "text": [
      "             Data    Codigo  Preco_Abertura  Preco_Fechamento   Ano  Mes  Dia\n",
      "923    2024-01-02  34AMZO34          3675.0            3640.0  2024    1    2\n",
      "2888   2024-01-03  34AMZO34          3694.0            3653.0  2024    1    3\n",
      "4563   2024-01-04  34AMZO34          3620.0            3544.0  2024    1    4\n",
      "5999   2024-01-05  34AMZO34          3555.0            3521.0  2024    1    5\n",
      "8078   2024-01-08  34AMZO34          3555.0            3555.0  2024    1    8\n",
      "...           ...       ...             ...               ...   ...  ...  ...\n",
      "96409  2024-03-22  34AMZO34          4453.0            4409.0  2024    3   22\n",
      "98163  2024-03-25  34AMZO34          4450.0            4422.0  2024    3   25\n",
      "99763  2024-03-26  34AMZO34          4497.0            4430.0  2024    3   26\n",
      "101401 2024-03-27  34AMZO34          4468.0            4427.0  2024    3   27\n",
      "103041 2024-03-28  34AMZO34          4498.0            4476.0  2024    3   28\n",
      "\n",
      "[61 rows x 7 columns]\n"
     ]
    },
    {
     "name": "stderr",
     "output_type": "stream",
     "text": [
      "C:\\Users\\srgio\\AppData\\Local\\Temp\\ipykernel_1368\\1667654215.py:1: SettingWithCopyWarning: \n",
      "A value is trying to be set on a copy of a slice from a DataFrame.\n",
      "Try using .loc[row_indexer,col_indexer] = value instead\n",
      "\n",
      "See the caveats in the documentation: https://pandas.pydata.org/pandas-docs/stable/user_guide/indexing.html#returning-a-view-versus-a-copy\n",
      "  AMAZON2024_df['Data'] = pd.to_datetime(AMAZON2024_df['Data'], format='%Y%m%d')\n",
      "C:\\Users\\srgio\\AppData\\Local\\Temp\\ipykernel_1368\\1667654215.py:4: SettingWithCopyWarning: \n",
      "A value is trying to be set on a copy of a slice from a DataFrame.\n",
      "Try using .loc[row_indexer,col_indexer] = value instead\n",
      "\n",
      "See the caveats in the documentation: https://pandas.pydata.org/pandas-docs/stable/user_guide/indexing.html#returning-a-view-versus-a-copy\n",
      "  AMAZON2024_df['Ano'] = AMAZON2024_df['Data'].dt.year\n",
      "C:\\Users\\srgio\\AppData\\Local\\Temp\\ipykernel_1368\\1667654215.py:5: SettingWithCopyWarning: \n",
      "A value is trying to be set on a copy of a slice from a DataFrame.\n",
      "Try using .loc[row_indexer,col_indexer] = value instead\n",
      "\n",
      "See the caveats in the documentation: https://pandas.pydata.org/pandas-docs/stable/user_guide/indexing.html#returning-a-view-versus-a-copy\n",
      "  AMAZON2024_df['Mes'] = AMAZON2024_df['Data'].dt.month\n",
      "C:\\Users\\srgio\\AppData\\Local\\Temp\\ipykernel_1368\\1667654215.py:6: SettingWithCopyWarning: \n",
      "A value is trying to be set on a copy of a slice from a DataFrame.\n",
      "Try using .loc[row_indexer,col_indexer] = value instead\n",
      "\n",
      "See the caveats in the documentation: https://pandas.pydata.org/pandas-docs/stable/user_guide/indexing.html#returning-a-view-versus-a-copy\n",
      "  AMAZON2024_df['Dia'] = AMAZON2024_df['Data'].dt.day\n"
     ]
    }
   ],
   "source": [
    "AMAZON2024_df['Data'] = pd.to_datetime(AMAZON2024_df['Data'], format='%Y%m%d')\n",
    "\n",
    "# Extraindo ano, mês e dia\n",
    "AMAZON2024_df['Ano'] = AMAZON2024_df['Data'].dt.year\n",
    "AMAZON2024_df['Mes'] = AMAZON2024_df['Data'].dt.month\n",
    "AMAZON2024_df['Dia'] = AMAZON2024_df['Data'].dt.day\n",
    "\n",
    "print(AMAZON2024_df)"
   ]
  },
  {
   "cell_type": "code",
   "execution_count": 144,
   "metadata": {},
   "outputs": [],
   "source": [
    "# AMAZON_df['Diferenca'] = AMAZON_df['Preco_Fechamento'].diff()\n",
    "\n",
    "# # Visualizando os dados diferenciados\n",
    "# plt.plot(AMAZON_df['Diferenca'])\n",
    "# plt.title('Série Temporal Diferenciada')\n",
    "# plt.xlabel('Data')\n",
    "# plt.ylabel('Diferença de Preço de Fechamento')\n",
    "# plt.show()"
   ]
  },
  {
   "cell_type": "code",
   "execution_count": 145,
   "metadata": {},
   "outputs": [
    {
     "data": {
      "image/png": "[encoded data removed]",
      "text/plain": [
       "<Figure size 640x480 with 1 Axes>"
      ]
     },
     "metadata": {},
     "output_type": "display_data"
    }
   ],
   "source": [
    "import matplotlib.pyplot as plt\n",
    "limite = 4000\n",
    "AMAZON_df  = AMAZON_df[AMAZON_df['Preco_Abertura'] < limite]\n",
    "plt.boxplot(AMAZON_df['Preco_Abertura'])\n",
    "plt.title('Boxplot do total ')\n",
    "plt.xlabel('Variável')\n",
    "plt.show()"
   ]
  },
  {
   "cell_type": "code",
   "execution_count": 146,
   "metadata": {},
   "outputs": [
    {
     "data": {
      "image/png": "[encoded data removed]",
      "text/plain": [
       "<Figure size 640x480 with 1 Axes>"
      ]
     },
     "metadata": {},
     "output_type": "display_data"
    }
   ],
   "source": [
    "limite = 4000\n",
    "AMAZON_df  = AMAZON_df[AMAZON_df['Preco_Fechamento'] < limite]\n",
    "plt.boxplot(AMAZON_df['Preco_Fechamento'])\n",
    "plt.title('Boxplot do total ')\n",
    "plt.xlabel('Variável')\n",
    "plt.show()"
   ]
  },
  {
   "cell_type": "code",
   "execution_count": 147,
   "metadata": {},
   "outputs": [
    {
     "data": {
      "image/png": "[encoded data removed]",
      "text/plain": [
       "<Figure size 640x480 with 1 Axes>"
      ]
     },
     "metadata": {},
     "output_type": "display_data"
    }
   ],
   "source": [
    "AMAZON_df['Diferenca'] = AMAZON_df['Preco_Fechamento'].diff()\n",
    "\n",
    "# Visualizando os dados diferenciados\n",
    "plt.plot(AMAZON_df['Diferenca'])\n",
    "plt.title('Série Temporal Diferenciada')\n",
    "plt.xlabel('Data')\n",
    "plt.ylabel('Diferença de Preço de Fechamento')\n",
    "plt.show()"
   ]
  },
  {
   "cell_type": "code",
   "execution_count": 148,
   "metadata": {},
   "outputs": [
    {
     "data": {
      "image/png": "[encoded data removed]",
      "text/plain": [
       "<Figure size 640x480 with 1 Axes>"
      ]
     },
     "metadata": {},
     "output_type": "display_data"
    },
    {
     "data": {
      "image/png": "[encoded data removed]",
      "text/plain": [
       "<Figure size 640x480 with 1 Axes>"
      ]
     },
     "metadata": {},
     "output_type": "display_data"
    }
   ],
   "source": [
    "from statsmodels.graphics.tsaplots import plot_acf, plot_pacf\n",
    "\n",
    "plot_acf(AMAZON_df['Preco_Fechamento'])\n",
    "plot_pacf(AMAZON_df['Preco_Fechamento'])\n",
    "plt.show()"
   ]
  },
  {
   "cell_type": "code",
   "execution_count": 156,
   "metadata": {},
   "outputs": [
    {
     "name": "stdout",
     "output_type": "stream",
     "text": [
      "Estatística do teste: -2.6948009836539306\n",
      "Valor-p: 0.0749422549125391\n"
     ]
    }
   ],
   "source": [
    "from statsmodels.tsa.stattools import adfuller\n",
    "\n",
    "# Teste de Dickey-Fuller aumentado\n",
    "resultado_teste = adfuller(AMAZON_df['Preco_Fechamento'])\n",
    "print('Estatística do teste:', resultado_teste[0])\n",
    "print('Valor-p:', resultado_teste[1])"
   ]
  },
  {
   "cell_type": "code",
   "execution_count": 150,
   "metadata": {},
   "outputs": [],
   "source": [
    "AMAZON_df['Data'] = pd.to_datetime(AMAZON_df['Data'])\n",
    "AMAZON_df.set_index('Data', inplace=True)"
   ]
  },
  {
   "cell_type": "code",
   "execution_count": 151,
   "metadata": {},
   "outputs": [],
   "source": [
    "p, d, q = 1, 1, 1"
   ]
  },
  {
   "cell_type": "code",
   "execution_count": 152,
   "metadata": {},
   "outputs": [
    {
     "name": "stderr",
     "output_type": "stream",
     "text": [
      "C:\\Users\\srgio\\AppData\\Local\\Packages\\PythonSoftwareFoundation.Python.3.12_qbz5n2kfra8p0\\LocalCache\\local-packages\\Python312\\site-packages\\statsmodels\\tsa\\base\\tsa_model.py:473: ValueWarning: A date index has been provided, but it has no associated frequency information and so will be ignored when e.g. forecasting.\n",
      "  self._init_dates(dates, freq)\n",
      "C:\\Users\\srgio\\AppData\\Local\\Packages\\PythonSoftwareFoundation.Python.3.12_qbz5n2kfra8p0\\LocalCache\\local-packages\\Python312\\site-packages\\statsmodels\\tsa\\base\\tsa_model.py:473: ValueWarning: A date index has been provided, but it is not monotonic and so will be ignored when e.g. forecasting.\n",
      "  self._init_dates(dates, freq)\n",
      "C:\\Users\\srgio\\AppData\\Local\\Packages\\PythonSoftwareFoundation.Python.3.12_qbz5n2kfra8p0\\LocalCache\\local-packages\\Python312\\site-packages\\statsmodels\\tsa\\base\\tsa_model.py:473: ValueWarning: A date index has been provided, but it has no associated frequency information and so will be ignored when e.g. forecasting.\n",
      "  self._init_dates(dates, freq)\n",
      "C:\\Users\\srgio\\AppData\\Local\\Packages\\PythonSoftwareFoundation.Python.3.12_qbz5n2kfra8p0\\LocalCache\\local-packages\\Python312\\site-packages\\statsmodels\\tsa\\base\\tsa_model.py:473: ValueWarning: A date index has been provided, but it is not monotonic and so will be ignored when e.g. forecasting.\n",
      "  self._init_dates(dates, freq)\n",
      "C:\\Users\\srgio\\AppData\\Local\\Packages\\PythonSoftwareFoundation.Python.3.12_qbz5n2kfra8p0\\LocalCache\\local-packages\\Python312\\site-packages\\statsmodels\\tsa\\base\\tsa_model.py:473: ValueWarning: A date index has been provided, but it has no associated frequency information and so will be ignored when e.g. forecasting.\n",
      "  self._init_dates(dates, freq)\n",
      "C:\\Users\\srgio\\AppData\\Local\\Packages\\PythonSoftwareFoundation.Python.3.12_qbz5n2kfra8p0\\LocalCache\\local-packages\\Python312\\site-packages\\statsmodels\\tsa\\base\\tsa_model.py:473: ValueWarning: A date index has been provided, but it is not monotonic and so will be ignored when e.g. forecasting.\n",
      "  self._init_dates(dates, freq)\n"
     ]
    }
   ],
   "source": [
    "modelo = ARIMA(AMAZON_df['Preco_Fechamento'], order=(p, d, q))\n",
    "resultado = modelo.fit()"
   ]
  },
  {
   "cell_type": "code",
   "execution_count": 153,
   "metadata": {},
   "outputs": [
    {
     "name": "stderr",
     "output_type": "stream",
     "text": [
      "C:\\Users\\srgio\\AppData\\Local\\Packages\\PythonSoftwareFoundation.Python.3.12_qbz5n2kfra8p0\\LocalCache\\local-packages\\Python312\\site-packages\\statsmodels\\tsa\\base\\tsa_model.py:836: ValueWarning: No supported index is available. Prediction results will be given with an integer index beginning at `start`.\n",
      "  return get_prediction_index(\n",
      "C:\\Users\\srgio\\AppData\\Local\\Packages\\PythonSoftwareFoundation.Python.3.12_qbz5n2kfra8p0\\LocalCache\\local-packages\\Python312\\site-packages\\statsmodels\\tsa\\base\\tsa_model.py:836: FutureWarning: No supported index is available. In the next version, calling this method in a model without a supported index will result in an exception.\n",
      "  return get_prediction_index(\n",
      "C:\\Users\\srgio\\AppData\\Local\\Packages\\PythonSoftwareFoundation.Python.3.12_qbz5n2kfra8p0\\LocalCache\\local-packages\\Python312\\site-packages\\statsmodels\\tsa\\statespace\\representation.py:374: FutureWarning: Unknown keyword arguments: dict_keys(['typ']).Passing unknown keyword arguments will raise a TypeError beginning in version 0.15.\n",
      "  warnings.warn(msg, FutureWarning)\n"
     ]
    }
   ],
   "source": [
    "horizonte = 10\n",
    "previsoes = resultado.predict(start=len(AMAZON_df), end=len(AMAZON_df)+horizonte-1, typ='levels')"
   ]
  },
  {
   "cell_type": "code",
   "execution_count": 154,
   "metadata": {},
   "outputs": [],
   "source": [
    "# AMAZON_df['Diferenca'] = AMAZON_df['Preco_Fechamento'].diff()\n",
    "\n",
    "# # Visualizando os dados diferenciados\n",
    "# plt.plot(AMAZON_df['Diferenca'])\n",
    "# plt.title('Série Temporal Diferenciada')\n",
    "# plt.xlabel('Data')\n",
    "# plt.ylabel('Diferença de Preço de Fechamento')\n",
    "# plt.show()"
   ]
  },
  {
   "cell_type": "code",
   "execution_count": 155,
   "metadata": {},
   "outputs": [
    {
     "name": "stdout",
     "output_type": "stream",
     "text": [
      "Estatística do teste: -18.632743281274273\n",
      "Valor-p: 2.0569648358396518e-30\n"
     ]
    }
   ],
   "source": [
    "# Teste de Estacionariedade (ADF)\n",
    "resultado_teste = adfuller(AMAZON_df['Diferenca'].dropna())\n",
    "print('Estatística do teste:', resultado_teste[0])\n",
    "print('Valor-p:', resultado_teste[1])\n"
   ]
  }
 ],
 "metadata": {
  "kernelspec": {
   "display_name": "Python 3",
   "language": "python",
   "name": "python3"
  },
  "language_info": {
   "codemirror_mode": {
    "name": "ipython",
    "version": 3
   },
   "file_extension": ".py",
   "mimetype": "text/x-python",
   "name": "python",
   "nbconvert_exporter": "python",
   "pygments_lexer": "ipython3",
   "version": "3.12.2"
  }
 },
 "nbformat": 4,
 "nbformat_minor": 2
}
