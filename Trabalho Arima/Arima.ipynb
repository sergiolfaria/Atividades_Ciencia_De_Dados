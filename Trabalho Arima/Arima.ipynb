{
 "cells": [
  {
   "cell_type": "code",
   "execution_count": 2,
   "metadata": {},
   "outputs": [],
   "source": [
    "import pandas as pd\n",
    "# Define os nomes das colunas e as larguras de cada campo\n",
    "colspecs = [(2, 10), (10, 22), (56, 69), (82, 95)]\n",
    "names = ['Data', 'Codigo', 'Preco_Abertura', 'Preco_Fechamento']\n",
    "\n",
    "# Carrega o arquivo\n",
    "df_2022 = pd.read_fwf('COTAHIST_A2022.TXT', colspecs=colspecs, names=names, header=None)\n",
    "df_2023 = pd.read_fwf('COTAHIST_A2023.TXT', colspecs=colspecs, names=names, header=None)\n",
    "df_2024 = pd.read_fwf('COTAHIST_A2024.TXT', colspecs=colspecs, names=names, header=None)\n",
    "\n"
   ]
  },
  {
   "cell_type": "code",
   "execution_count": 3,
   "metadata": {},
   "outputs": [
    {
     "data": {
      "text/html": [
       "<div>\n",
       "<style scoped>\n",
       "    .dataframe tbody tr th:only-of-type {\n",
       "        vertical-align: middle;\n",
       "    }\n",
       "\n",
       "    .dataframe tbody tr th {\n",
       "        vertical-align: top;\n",
       "    }\n",
       "\n",
       "    .dataframe thead th {\n",
       "        text-align: right;\n",
       "    }\n",
       "</style>\n",
       "<table border=\"1\" class=\"dataframe\">\n",
       "  <thead>\n",
       "    <tr style=\"text-align: right;\">\n",
       "      <th></th>\n",
       "      <th>Data</th>\n",
       "      <th>Codigo</th>\n",
       "      <th>Preco_Abertura</th>\n",
       "      <th>Preco_Fechamento</th>\n",
       "    </tr>\n",
       "  </thead>\n",
       "  <tbody>\n",
       "    <tr>\n",
       "      <th>0</th>\n",
       "      <td>COTAHIST</td>\n",
       "      <td>.2022BOVESPA</td>\n",
       "      <td>NaN</td>\n",
       "      <td>NaN</td>\n",
       "    </tr>\n",
       "    <tr>\n",
       "      <th>1</th>\n",
       "      <td>20220103</td>\n",
       "      <td>02GNDI3</td>\n",
       "      <td>5970.0</td>\n",
       "      <td>5727.0</td>\n",
       "    </tr>\n",
       "    <tr>\n",
       "      <th>2</th>\n",
       "      <td>20220103</td>\n",
       "      <td>02ABEV3</td>\n",
       "      <td>1542.0</td>\n",
       "      <td>1515.0</td>\n",
       "    </tr>\n",
       "    <tr>\n",
       "      <th>3</th>\n",
       "      <td>20220103</td>\n",
       "      <td>02MODL11</td>\n",
       "      <td>1080.0</td>\n",
       "      <td>1071.0</td>\n",
       "    </tr>\n",
       "    <tr>\n",
       "      <th>4</th>\n",
       "      <td>20220103</td>\n",
       "      <td>02TASA4</td>\n",
       "      <td>2500.0</td>\n",
       "      <td>2428.0</td>\n",
       "    </tr>\n",
       "    <tr>\n",
       "      <th>...</th>\n",
       "      <td>...</td>\n",
       "      <td>...</td>\n",
       "      <td>...</td>\n",
       "      <td>...</td>\n",
       "    </tr>\n",
       "    <tr>\n",
       "      <th>95</th>\n",
       "      <td>20220218</td>\n",
       "      <td>12VSLH11</td>\n",
       "      <td>949.0</td>\n",
       "      <td>948.0</td>\n",
       "    </tr>\n",
       "    <tr>\n",
       "      <th>96</th>\n",
       "      <td>20220218</td>\n",
       "      <td>12GCRI11</td>\n",
       "      <td>9795.0</td>\n",
       "      <td>9770.0</td>\n",
       "    </tr>\n",
       "    <tr>\n",
       "      <th>97</th>\n",
       "      <td>20220218</td>\n",
       "      <td>12PRSN11B</td>\n",
       "      <td>158.0</td>\n",
       "      <td>143.0</td>\n",
       "    </tr>\n",
       "    <tr>\n",
       "      <th>98</th>\n",
       "      <td>20220218</td>\n",
       "      <td>12ONEF11</td>\n",
       "      <td>14997.0</td>\n",
       "      <td>14997.0</td>\n",
       "    </tr>\n",
       "    <tr>\n",
       "      <th>99</th>\n",
       "      <td>20220218</td>\n",
       "      <td>12VGHF11</td>\n",
       "      <td>1014.0</td>\n",
       "      <td>1013.0</td>\n",
       "    </tr>\n",
       "  </tbody>\n",
       "</table>\n",
       "<p>100 rows × 4 columns</p>\n",
       "</div>"
      ],
      "text/plain": [
       "        Data        Codigo  Preco_Abertura  Preco_Fechamento\n",
       "0   COTAHIST  .2022BOVESPA             NaN               NaN\n",
       "1   20220103       02GNDI3          5970.0            5727.0\n",
       "2   20220103       02ABEV3          1542.0            1515.0\n",
       "3   20220103      02MODL11          1080.0            1071.0\n",
       "4   20220103       02TASA4          2500.0            2428.0\n",
       "..       ...           ...             ...               ...\n",
       "95  20220218      12VSLH11           949.0             948.0\n",
       "96  20220218      12GCRI11          9795.0            9770.0\n",
       "97  20220218     12PRSN11B           158.0             143.0\n",
       "98  20220218      12ONEF11         14997.0           14997.0\n",
       "99  20220218      12VGHF11          1014.0            1013.0\n",
       "\n",
       "[100 rows x 4 columns]"
      ]
     },
     "execution_count": 3,
     "metadata": {},
     "output_type": "execute_result"
    }
   ],
   "source": [
    "\n",
    "df_2022.head(100)"
   ]
  },
  {
   "cell_type": "code",
   "execution_count": 4,
   "metadata": {},
   "outputs": [
    {
     "data": {
      "text/html": [
       "<div>\n",
       "<style scoped>\n",
       "    .dataframe tbody tr th:only-of-type {\n",
       "        vertical-align: middle;\n",
       "    }\n",
       "\n",
       "    .dataframe tbody tr th {\n",
       "        vertical-align: top;\n",
       "    }\n",
       "\n",
       "    .dataframe thead th {\n",
       "        text-align: right;\n",
       "    }\n",
       "</style>\n",
       "<table border=\"1\" class=\"dataframe\">\n",
       "  <thead>\n",
       "    <tr style=\"text-align: right;\">\n",
       "      <th></th>\n",
       "      <th>Data</th>\n",
       "      <th>Codigo</th>\n",
       "      <th>Preco_Abertura</th>\n",
       "      <th>Preco_Fechamento</th>\n",
       "    </tr>\n",
       "  </thead>\n",
       "  <tbody>\n",
       "    <tr>\n",
       "      <th>0</th>\n",
       "      <td>COTAHIST</td>\n",
       "      <td>.2023BOVESPA</td>\n",
       "      <td>NaN</td>\n",
       "      <td>NaN</td>\n",
       "    </tr>\n",
       "    <tr>\n",
       "      <th>1</th>\n",
       "      <td>20230102</td>\n",
       "      <td>02NEOE3</td>\n",
       "      <td>1540.0</td>\n",
       "      <td>1498.0</td>\n",
       "    </tr>\n",
       "    <tr>\n",
       "      <th>2</th>\n",
       "      <td>20230102</td>\n",
       "      <td>02NEXP3</td>\n",
       "      <td>31.0</td>\n",
       "      <td>29.0</td>\n",
       "    </tr>\n",
       "    <tr>\n",
       "      <th>3</th>\n",
       "      <td>20230102</td>\n",
       "      <td>02NGRD3</td>\n",
       "      <td>148.0</td>\n",
       "      <td>143.0</td>\n",
       "    </tr>\n",
       "    <tr>\n",
       "      <th>4</th>\n",
       "      <td>20230102</td>\n",
       "      <td>02NINJ3</td>\n",
       "      <td>270.0</td>\n",
       "      <td>269.0</td>\n",
       "    </tr>\n",
       "  </tbody>\n",
       "</table>\n",
       "</div>"
      ],
      "text/plain": [
       "       Data        Codigo  Preco_Abertura  Preco_Fechamento\n",
       "0  COTAHIST  .2023BOVESPA             NaN               NaN\n",
       "1  20230102       02NEOE3          1540.0            1498.0\n",
       "2  20230102       02NEXP3            31.0              29.0\n",
       "3  20230102       02NGRD3           148.0             143.0\n",
       "4  20230102       02NINJ3           270.0             269.0"
      ]
     },
     "execution_count": 4,
     "metadata": {},
     "output_type": "execute_result"
    }
   ],
   "source": [
    "df_2023.head()"
   ]
  },
  {
   "cell_type": "code",
   "execution_count": 5,
   "metadata": {},
   "outputs": [
    {
     "data": {
      "text/html": [
       "<div>\n",
       "<style scoped>\n",
       "    .dataframe tbody tr th:only-of-type {\n",
       "        vertical-align: middle;\n",
       "    }\n",
       "\n",
       "    .dataframe tbody tr th {\n",
       "        vertical-align: top;\n",
       "    }\n",
       "\n",
       "    .dataframe thead th {\n",
       "        text-align: right;\n",
       "    }\n",
       "</style>\n",
       "<table border=\"1\" class=\"dataframe\">\n",
       "  <thead>\n",
       "    <tr style=\"text-align: right;\">\n",
       "      <th></th>\n",
       "      <th>Data</th>\n",
       "      <th>Codigo</th>\n",
       "      <th>Preco_Abertura</th>\n",
       "      <th>Preco_Fechamento</th>\n",
       "    </tr>\n",
       "  </thead>\n",
       "  <tbody>\n",
       "    <tr>\n",
       "      <th>0</th>\n",
       "      <td>COTAHIST</td>\n",
       "      <td>.2024BOVESPA</td>\n",
       "      <td>NaN</td>\n",
       "      <td>NaN</td>\n",
       "    </tr>\n",
       "    <tr>\n",
       "      <th>1</th>\n",
       "      <td>20240102</td>\n",
       "      <td>02AALR3</td>\n",
       "      <td>1020.0</td>\n",
       "      <td>850.0</td>\n",
       "    </tr>\n",
       "    <tr>\n",
       "      <th>2</th>\n",
       "      <td>20240102</td>\n",
       "      <td>02ABCB4</td>\n",
       "      <td>2398.0</td>\n",
       "      <td>2279.0</td>\n",
       "    </tr>\n",
       "    <tr>\n",
       "      <th>3</th>\n",
       "      <td>20240102</td>\n",
       "      <td>02ABEV3</td>\n",
       "      <td>1372.0</td>\n",
       "      <td>1359.0</td>\n",
       "    </tr>\n",
       "    <tr>\n",
       "      <th>4</th>\n",
       "      <td>20240102</td>\n",
       "      <td>02BBDC3</td>\n",
       "      <td>1526.0</td>\n",
       "      <td>1498.0</td>\n",
       "    </tr>\n",
       "    <tr>\n",
       "      <th>5</th>\n",
       "      <td>20240102</td>\n",
       "      <td>02ALPA3</td>\n",
       "      <td>1011.0</td>\n",
       "      <td>999.0</td>\n",
       "    </tr>\n",
       "    <tr>\n",
       "      <th>6</th>\n",
       "      <td>20240102</td>\n",
       "      <td>02ALPA4</td>\n",
       "      <td>1010.0</td>\n",
       "      <td>931.0</td>\n",
       "    </tr>\n",
       "    <tr>\n",
       "      <th>7</th>\n",
       "      <td>20240102</td>\n",
       "      <td>02ALPK3</td>\n",
       "      <td>492.0</td>\n",
       "      <td>447.0</td>\n",
       "    </tr>\n",
       "    <tr>\n",
       "      <th>8</th>\n",
       "      <td>20240102</td>\n",
       "      <td>02ALUP11</td>\n",
       "      <td>3146.0</td>\n",
       "      <td>3025.0</td>\n",
       "    </tr>\n",
       "    <tr>\n",
       "      <th>9</th>\n",
       "      <td>20240102</td>\n",
       "      <td>02ALUP3</td>\n",
       "      <td>1046.0</td>\n",
       "      <td>1007.0</td>\n",
       "    </tr>\n",
       "  </tbody>\n",
       "</table>\n",
       "</div>"
      ],
      "text/plain": [
       "       Data        Codigo  Preco_Abertura  Preco_Fechamento\n",
       "0  COTAHIST  .2024BOVESPA             NaN               NaN\n",
       "1  20240102       02AALR3          1020.0             850.0\n",
       "2  20240102       02ABCB4          2398.0            2279.0\n",
       "3  20240102       02ABEV3          1372.0            1359.0\n",
       "4  20240102       02BBDC3          1526.0            1498.0\n",
       "5  20240102       02ALPA3          1011.0             999.0\n",
       "6  20240102       02ALPA4          1010.0             931.0\n",
       "7  20240102       02ALPK3           492.0             447.0\n",
       "8  20240102      02ALUP11          3146.0            3025.0\n",
       "9  20240102       02ALUP3          1046.0            1007.0"
      ]
     },
     "execution_count": 5,
     "metadata": {},
     "output_type": "execute_result"
    }
   ],
   "source": [
    "df_2024.head(10)"
   ]
  },
  {
   "cell_type": "code",
   "execution_count": 6,
   "metadata": {},
   "outputs": [
    {
     "data": {
      "text/html": [
       "<div>\n",
       "<style scoped>\n",
       "    .dataframe tbody tr th:only-of-type {\n",
       "        vertical-align: middle;\n",
       "    }\n",
       "\n",
       "    .dataframe tbody tr th {\n",
       "        vertical-align: top;\n",
       "    }\n",
       "\n",
       "    .dataframe thead th {\n",
       "        text-align: right;\n",
       "    }\n",
       "</style>\n",
       "<table border=\"1\" class=\"dataframe\">\n",
       "  <thead>\n",
       "    <tr style=\"text-align: right;\">\n",
       "      <th></th>\n",
       "      <th>Data</th>\n",
       "      <th>Codigo</th>\n",
       "      <th>Preco_Abertura</th>\n",
       "      <th>Preco_Fechamento</th>\n",
       "    </tr>\n",
       "  </thead>\n",
       "  <tbody>\n",
       "    <tr>\n",
       "      <th>0</th>\n",
       "      <td>COTAHIST</td>\n",
       "      <td>.2022BOVESPA</td>\n",
       "      <td>NaN</td>\n",
       "      <td>NaN</td>\n",
       "    </tr>\n",
       "    <tr>\n",
       "      <th>1</th>\n",
       "      <td>20220103</td>\n",
       "      <td>02GNDI3</td>\n",
       "      <td>5970.0</td>\n",
       "      <td>5727.0</td>\n",
       "    </tr>\n",
       "    <tr>\n",
       "      <th>2</th>\n",
       "      <td>20220103</td>\n",
       "      <td>02ABEV3</td>\n",
       "      <td>1542.0</td>\n",
       "      <td>1515.0</td>\n",
       "    </tr>\n",
       "    <tr>\n",
       "      <th>3</th>\n",
       "      <td>20220103</td>\n",
       "      <td>02MODL11</td>\n",
       "      <td>1080.0</td>\n",
       "      <td>1071.0</td>\n",
       "    </tr>\n",
       "    <tr>\n",
       "      <th>4</th>\n",
       "      <td>20220103</td>\n",
       "      <td>02TASA4</td>\n",
       "      <td>2500.0</td>\n",
       "      <td>2428.0</td>\n",
       "    </tr>\n",
       "  </tbody>\n",
       "</table>\n",
       "</div>"
      ],
      "text/plain": [
       "       Data        Codigo  Preco_Abertura  Preco_Fechamento\n",
       "0  COTAHIST  .2022BOVESPA             NaN               NaN\n",
       "1  20220103       02GNDI3          5970.0            5727.0\n",
       "2  20220103       02ABEV3          1542.0            1515.0\n",
       "3  20220103      02MODL11          1080.0            1071.0\n",
       "4  20220103       02TASA4          2500.0            2428.0"
      ]
     },
     "execution_count": 6,
     "metadata": {},
     "output_type": "execute_result"
    }
   ],
   "source": [
    "frames = [df_2022, df_2023]\n",
    "df_2022e2023 = pd.concat(frames)\n",
    "df_2022e2023.head()"
   ]
  },
  {
   "cell_type": "code",
   "execution_count": 7,
   "metadata": {},
   "outputs": [
    {
     "name": "stdout",
     "output_type": "stream",
     "text": [
      "             Data    Codigo  Preco_Abertura  Preco_Fechamento\n",
      "152      20220103  02AMZO34         11955.0           11930.0\n",
      "2541     20220119  02AMZO34         11200.0           10860.0\n",
      "2565     20220221  02AMZO34          9960.0            9786.0\n",
      "5904     20220204  02AMZO34         10557.0           10233.0\n",
      "6807     20220104  02AMZO34         12302.0           12000.0\n",
      "...           ...       ...             ...               ...\n",
      "1345496  20231221  34AMZO34          3754.0            3702.0\n",
      "1347177  20231222  34AMZO34          3740.0            3715.0\n",
      "1349027  20231226  34AMZO34          3741.0            3689.0\n",
      "1350523  20231227  34AMZO34          3708.0            3692.0\n",
      "1352256  20231228  34AMZO34          3715.0            3698.0\n",
      "\n",
      "[498 rows x 4 columns]\n"
     ]
    }
   ],
   "source": [
    "AMAZON_df = df_2022e2023[df_2022e2023['Codigo'].str.endswith('AMZO34')]\n",
    "\n",
    "print(AMAZON_df)"
   ]
  },
  {
   "cell_type": "code",
   "execution_count": 8,
   "metadata": {},
   "outputs": [
    {
     "name": "stderr",
     "output_type": "stream",
     "text": [
      "C:\\Users\\srgio\\AppData\\Local\\Temp\\ipykernel_1368\\4240046411.py:1: SettingWithCopyWarning: \n",
      "A value is trying to be set on a copy of a slice from a DataFrame.\n",
      "Try using .loc[row_indexer,col_indexer] = value instead\n",
      "\n",
      "See the caveats in the documentation: https://pandas.pydata.org/pandas-docs/stable/user_guide/indexing.html#returning-a-view-versus-a-copy\n",
      "  AMAZON_df['Data'] = pd.to_datetime(AMAZON_df['Data'], format='%Y%m%d')\n",
      "C:\\Users\\srgio\\AppData\\Local\\Temp\\ipykernel_1368\\4240046411.py:4: SettingWithCopyWarning: \n",
      "A value is trying to be set on a copy of a slice from a DataFrame.\n",
      "Try using .loc[row_indexer,col_indexer] = value instead\n",
      "\n",
      "See the caveats in the documentation: https://pandas.pydata.org/pandas-docs/stable/user_guide/indexing.html#returning-a-view-versus-a-copy\n",
      "  AMAZON_df['Ano'] = AMAZON_df['Data'].dt.year\n",
      "C:\\Users\\srgio\\AppData\\Local\\Temp\\ipykernel_1368\\4240046411.py:5: SettingWithCopyWarning: \n",
      "A value is trying to be set on a copy of a slice from a DataFrame.\n",
      "Try using .loc[row_indexer,col_indexer] = value instead\n",
      "\n",
      "See the caveats in the documentation: https://pandas.pydata.org/pandas-docs/stable/user_guide/indexing.html#returning-a-view-versus-a-copy\n",
      "  AMAZON_df['Mes'] = AMAZON_df['Data'].dt.month\n",
      "C:\\Users\\srgio\\AppData\\Local\\Temp\\ipykernel_1368\\4240046411.py:6: SettingWithCopyWarning: \n",
      "A value is trying to be set on a copy of a slice from a DataFrame.\n",
      "Try using .loc[row_indexer,col_indexer] = value instead\n",
      "\n",
      "See the caveats in the documentation: https://pandas.pydata.org/pandas-docs/stable/user_guide/indexing.html#returning-a-view-versus-a-copy\n",
      "  AMAZON_df['Dia'] = AMAZON_df['Data'].dt.day\n"
     ]
    }
   ],
   "source": [
    "AMAZON_df['Data'] = pd.to_datetime(AMAZON_df['Data'], format='%Y%m%d')\n",
    "\n",
    "# Extraindo ano, mês e dia\n",
    "AMAZON_df['Ano'] = AMAZON_df['Data'].dt.year\n",
    "AMAZON_df['Mes'] = AMAZON_df['Data'].dt.month\n",
    "AMAZON_df['Dia'] = AMAZON_df['Data'].dt.day"
   ]
  },
  {
   "cell_type": "code",
   "execution_count": 10,
   "metadata": {},
   "outputs": [
    {
     "name": "stdout",
     "output_type": "stream",
     "text": [
      "              Data    Codigo  Preco_Abertura  Preco_Fechamento   Ano  Mes  Dia\n",
      "152     2022-01-03  02AMZO34         11955.0           11930.0  2022    1    3\n",
      "2541    2022-01-19  02AMZO34         11200.0           10860.0  2022    1   19\n",
      "2565    2022-02-21  02AMZO34          9960.0            9786.0  2022    2   21\n",
      "5904    2022-02-04  02AMZO34         10557.0           10233.0  2022    2    4\n",
      "6807    2022-01-04  02AMZO34         12302.0           12000.0  2022    1    4\n",
      "...            ...       ...             ...               ...   ...  ...  ...\n",
      "1345496 2023-12-21  34AMZO34          3754.0            3702.0  2023   12   21\n",
      "1347177 2023-12-22  34AMZO34          3740.0            3715.0  2023   12   22\n",
      "1349027 2023-12-26  34AMZO34          3741.0            3689.0  2023   12   26\n",
      "1350523 2023-12-27  34AMZO34          3708.0            3692.0  2023   12   27\n",
      "1352256 2023-12-28  34AMZO34          3715.0            3698.0  2023   12   28\n",
      "\n",
      "[498 rows x 7 columns]\n"
     ]
    }
   ],
   "source": [
    "print(AMAZON_df)"
   ]
  },
  {
   "cell_type": "code",
   "execution_count": 13,
   "metadata": {},
   "outputs": [
    {
     "data": {
      "text/plain": [
       "Data                0\n",
       "Codigo              0\n",
       "Preco_Abertura      0\n",
       "Preco_Fechamento    0\n",
       "Ano                 0\n",
       "Mes                 0\n",
       "Dia                 0\n",
       "dtype: int64"
      ]
     },
     "execution_count": 13,
     "metadata": {},
     "output_type": "execute_result"
    }
   ],
   "source": [
    "AMAZON_df.isnull().sum()"
   ]
  },
  {
   "cell_type": "code",
   "execution_count": 11,
   "metadata": {},
   "outputs": [
    {
     "data": {
      "image/png": "[encoded data removed]",
      "text/plain": [
       "<Figure size 640x480 with 1 Axes>"
      ]
     },
     "metadata": {},
     "output_type": "display_data"
    }
   ],
   "source": [
    "import matplotlib.pyplot as plt\n",
    "\n",
    "plt.boxplot(AMAZON_df['Preco_Abertura'])\n",
    "plt.title('Boxplot do total ')\n",
    "plt.xlabel('Variável')\n",
    "plt.show()"
   ]
  },
  {
   "cell_type": "code",
   "execution_count": 12,
   "metadata": {},
   "outputs": [
    {
     "data": {
      "image/png": "[encoded data removed]",
      "text/plain": [
       "<Figure size 640x480 with 1 Axes>"
      ]
     },
     "metadata": {},
     "output_type": "display_data"
    }
   ],
   "source": [
    "plt.boxplot(AMAZON_df['Preco_Fechamento'])\n",
    "plt.title('Boxplot do total ')\n",
    "plt.xlabel('Variável')\n",
    "plt.show()"
   ]
  }
 ],
 "metadata": {
  "kernelspec": {
   "display_name": "Python 3",
   "language": "python",
   "name": "python3"
  },
  "language_info": {
   "codemirror_mode": {
    "name": "ipython",
    "version": 3
   },
   "file_extension": ".py",
   "mimetype": "text/x-python",
   "name": "python",
   "nbconvert_exporter": "python",
   "pygments_lexer": "ipython3",
   "version": "3.12.2"
  }
 },
 "nbformat": 4,
 "nbformat_minor": 2
}
